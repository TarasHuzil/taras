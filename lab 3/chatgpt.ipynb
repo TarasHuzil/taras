{
 "cells": [
  {
   "cell_type": "code",
   "execution_count": 1,
   "metadata": {},
   "outputs": [
    {
     "name": "stdout",
     "output_type": "stream",
     "text": [
      "8\n",
      "6\n"
     ]
    }
   ],
   "source": [
    "class Calculator:\n",
    "    @staticmethod\n",
    "    def add(a, b):\n",
    "        return a + b\n",
    "    \n",
    "    @staticmethod\n",
    "    def subtract(a, b):\n",
    "        return a - b\n",
    "\n",
    "# Виклик через клас:\n",
    "result1 = Calculator.add(5, 3)\n",
    "result2 = Calculator.subtract(10, 4)\n",
    "\n",
    "print(result1)  # 8\n",
    "print(result2)  # 6\n"
   ]
  },
  {
   "cell_type": "code",
   "execution_count": 2,
   "metadata": {},
   "outputs": [
    {
     "name": "stdout",
     "output_type": "stream",
     "text": [
      "1\n",
      "1\n"
     ]
    }
   ],
   "source": [
    "class MyClass:\n",
    "    # Класова змінна\n",
    "    class_variable = 0\n",
    "    \n",
    "    def __init__(self):\n",
    "        # Екземплярна змінна\n",
    "        self.instance_variable = 10\n",
    "    \n",
    "    def increment_class_variable(self):\n",
    "        MyClass.class_variable += 1\n",
    "        # Можна змінювати класову змінну як через клас, так і через екземпляр:\n",
    "        self.class_variable += 1\n",
    "\n",
    "# Створення об'єктів\n",
    "obj1 = MyClass()\n",
    "obj2 = MyClass()\n",
    "\n",
    "# Збільшення класової змінної через метод\n",
    "obj1.increment_class_variable()\n",
    "\n",
    "# Доступ до класової змінної через клас\n",
    "print(MyClass.class_variable)  # Виведе: 2\n",
    "\n",
    "# Доступ до класової змінної через екземпляр\n",
    "print(obj2.class_variable)  # Виведе: 2\n"
   ]
  }
 ],
 "metadata": {
  "kernelspec": {
   "display_name": "Python 3",
   "language": "python",
   "name": "python3"
  },
  "language_info": {
   "codemirror_mode": {
    "name": "ipython",
    "version": 3
   },
   "file_extension": ".py",
   "mimetype": "text/x-python",
   "name": "python",
   "nbconvert_exporter": "python",
   "pygments_lexer": "ipython3",
   "version": "3.12.5"
  }
 },
 "nbformat": 4,
 "nbformat_minor": 2
}
